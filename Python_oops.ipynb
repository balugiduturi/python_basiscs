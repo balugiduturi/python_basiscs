{
 "cells": [
  {
   "cell_type": "code",
   "execution_count": 14,
   "metadata": {
    "collapsed": true
   },
   "outputs": [],
   "source": [
    "class employee:\n",
    "    def __init__(self, eid,ename,salary,city):\n",
    "        self.eid = eid\n",
    "        self.ename = ename\n",
    "        self.salary = salary\n",
    "        self.city = city\n",
    "        \n",
    "    def display(Self):\n",
    "        print(\"emp Id=\", Self.eid)\n",
    "        print(\"emp Id=\", Self.ename)\n",
    "        print(\"emp Id=\", Self.salary)"
   ]
  },
  {
   "cell_type": "code",
   "execution_count": 15,
   "metadata": {
    "collapsed": true
   },
   "outputs": [],
   "source": [
    "Obj1 = employee(101,\"balu\", 10000,\"Hyderabad\")"
   ]
  },
  {
   "cell_type": "code",
   "execution_count": 16,
   "metadata": {},
   "outputs": [
    {
     "name": "stdout",
     "output_type": "stream",
     "text": [
      "emp Id= 101\n",
      "emp Id= balu\n",
      "emp Id= 10000\n"
     ]
    }
   ],
   "source": [
    "Obj1.display()"
   ]
  },
  {
   "cell_type": "code",
   "execution_count": 17,
   "metadata": {},
   "outputs": [
    {
     "name": "stdout",
     "output_type": "stream",
     "text": [
      "Enter employee id:102\n",
      "Enter Employee name:Balu G\n",
      "Enter Employee salary:1000000\n",
      "Enter Employee city:Hyderabad\n"
     ]
    }
   ],
   "source": [
    "eid = int(input(\"Enter employee id:\"))\n",
    "ename = input(\"Enter Employee name:\")\n",
    "salary = int(input(\"Enter Employee salary:\"))\n",
    "city = input(\"Enter Employee city:\")"
   ]
  },
  {
   "cell_type": "code",
   "execution_count": 19,
   "metadata": {
    "collapsed": true
   },
   "outputs": [],
   "source": [
    "Obj2 = employee(eid,ename,salary,city)"
   ]
  },
  {
   "cell_type": "code",
   "execution_count": 20,
   "metadata": {},
   "outputs": [
    {
     "name": "stdout",
     "output_type": "stream",
     "text": [
      "emp Id= 102\n",
      "emp Id= Balu G\n",
      "emp Id= 1000000\n"
     ]
    }
   ],
   "source": [
    "Obj2.display()"
   ]
  },
  {
   "cell_type": "code",
   "execution_count": 79,
   "metadata": {},
   "outputs": [],
   "source": [
    "class player:\n",
    "    def __init__(self, name, country):\n",
    "        self.name = name\n",
    "        self.country = country\n",
    "        \n",
    "    def getPlayerDetails(self, type, value):\n",
    "        print(\"Type of \",type)\n",
    "        print(\"Total \",type, value)    \n",
    "        \n",
    "    \n",
    "\n",
    "\n",
    "        "
   ]
  },
  {
   "cell_type": "code",
   "execution_count": 100,
   "metadata": {
    "collapsed": true
   },
   "outputs": [],
   "source": [
    "class batsman():\n",
    "    def __init__(self, runs, centuries):\n",
    "        #super.__init__(name,country)\n",
    "        #self.name = name\n",
    "        #self.country = country\n",
    "        self.runs = runs\n",
    "        self.centuries = centuries\n",
    "    \n",
    "    def getPlayerDetails(self):\n",
    "        print(\"Runs\",self.runs)\n",
    "        print(\"Centuries \",self.centuries)\n",
    "        \n",
    "    def getPlayerDetails1(self, type, value):\n",
    "        print(\"type \",type)\n",
    "        print(\"value \",value)  \n"
   ]
  },
  {
   "cell_type": "code",
   "execution_count": 105,
   "metadata": {
    "collapsed": true
   },
   "outputs": [],
   "source": [
    "class wicketKeeper(batsman):\n",
    "    def __init__(self, runs, centuries, catches):\n",
    "       # self.runs = runs\n",
    "        #self.centuries = centuries\n",
    "        batsman.__init__(self, runs, centuries)\n",
    "        self.catches = catches\n",
    "        \n",
    "        #batsman.getPlayerDetails(\"runs\",self.runs);\n",
    "        \n"
   ]
  },
  {
   "cell_type": "code",
   "execution_count": 106,
   "metadata": {},
   "outputs": [
    {
     "ename": "TypeError",
     "evalue": "descriptor '__init__' requires a 'super' object but received a 'wicketKeeper'",
     "output_type": "error",
     "traceback": [
      "\u001b[0;31m---------------------------------------------------------------------------\u001b[0m",
      "\u001b[0;31mTypeError\u001b[0m                                 Traceback (most recent call last)",
      "\u001b[0;32m<ipython-input-106-b347827220bf>\u001b[0m in \u001b[0;36m<module>\u001b[0;34m()\u001b[0m\n\u001b[1;32m      1\u001b[0m \u001b[0;31m#Wicket = wicketKeeper(5,52, 2)\u001b[0m\u001b[0;34m\u001b[0m\u001b[0;34m\u001b[0m\u001b[0m\n\u001b[0;32m----> 2\u001b[0;31m \u001b[0mWicket\u001b[0m \u001b[0;34m=\u001b[0m \u001b[0mwicketKeeper\u001b[0m\u001b[0;34m(\u001b[0m\u001b[0;36m5\u001b[0m\u001b[0;34m,\u001b[0m\u001b[0;36m52\u001b[0m\u001b[0;34m,\u001b[0m \u001b[0;36m2\u001b[0m\u001b[0;34m)\u001b[0m\u001b[0;34m\u001b[0m\u001b[0m\n\u001b[0m\u001b[1;32m      3\u001b[0m \u001b[0mWicket\u001b[0m\u001b[0;34m.\u001b[0m\u001b[0mgetPlayerDetails\u001b[0m\u001b[0;34m(\u001b[0m\u001b[0;34m)\u001b[0m\u001b[0;34m\u001b[0m\u001b[0m\n",
      "\u001b[0;32m<ipython-input-105-399813a8b0cd>\u001b[0m in \u001b[0;36m__init__\u001b[0;34m(self, runs, centuries, catches)\u001b[0m\n\u001b[1;32m      3\u001b[0m        \u001b[0;31m# self.runs = runs\u001b[0m\u001b[0;34m\u001b[0m\u001b[0;34m\u001b[0m\u001b[0m\n\u001b[1;32m      4\u001b[0m         \u001b[0;31m#self.centuries = centuries\u001b[0m\u001b[0;34m\u001b[0m\u001b[0;34m\u001b[0m\u001b[0m\n\u001b[0;32m----> 5\u001b[0;31m         \u001b[0msuper\u001b[0m\u001b[0;34m.\u001b[0m\u001b[0m__init__\u001b[0m\u001b[0;34m(\u001b[0m\u001b[0mself\u001b[0m\u001b[0;34m,\u001b[0m \u001b[0mruns\u001b[0m\u001b[0;34m,\u001b[0m \u001b[0mcenturies\u001b[0m\u001b[0;34m)\u001b[0m\u001b[0;34m\u001b[0m\u001b[0m\n\u001b[0m\u001b[1;32m      6\u001b[0m         \u001b[0mself\u001b[0m\u001b[0;34m.\u001b[0m\u001b[0mcatches\u001b[0m \u001b[0;34m=\u001b[0m \u001b[0mcatches\u001b[0m\u001b[0;34m\u001b[0m\u001b[0m\n\u001b[1;32m      7\u001b[0m \u001b[0;34m\u001b[0m\u001b[0m\n",
      "\u001b[0;31mTypeError\u001b[0m: descriptor '__init__' requires a 'super' object but received a 'wicketKeeper'"
     ]
    }
   ],
   "source": [
    "#Wicket = wicketKeeper(5,52, 2)\n",
    "Wicket = wicketKeeper(5,52, 2)\n",
    "Wicket.getPlayerDetails()"
   ]
  },
  {
   "cell_type": "code",
   "execution_count": 104,
   "metadata": {},
   "outputs": [
    {
     "name": "stdout",
     "output_type": "stream",
     "text": [
      "type  Runs \n",
      "value  10\n",
      "type  Centuries \n",
      "value  20\n"
     ]
    }
   ],
   "source": [
    "Wicket.getPlayerDetails1(\"Runs \",10)\n",
    "Wicket.getPlayerDetails1(\"Centuries \",20)"
   ]
  },
  {
   "cell_type": "code",
   "execution_count": null,
   "metadata": {
    "collapsed": true
   },
   "outputs": [],
   "source": []
  },
  {
   "cell_type": "code",
   "execution_count": null,
   "metadata": {
    "collapsed": true
   },
   "outputs": [],
   "source": []
  }
 ],
 "metadata": {
  "kernelspec": {
   "display_name": "Python 3",
   "language": "python",
   "name": "python3"
  },
  "language_info": {
   "codemirror_mode": {
    "name": "ipython",
    "version": 3
   },
   "file_extension": ".py",
   "mimetype": "text/x-python",
   "name": "python",
   "nbconvert_exporter": "python",
   "pygments_lexer": "ipython3",
   "version": "3.6.3"
  }
 },
 "nbformat": 4,
 "nbformat_minor": 2
}
